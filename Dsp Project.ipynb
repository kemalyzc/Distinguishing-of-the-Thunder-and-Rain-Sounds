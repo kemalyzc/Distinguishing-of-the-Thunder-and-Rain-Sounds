{
 "cells": [
  {
   "cell_type": "markdown",
   "metadata": {},
   "source": [
    "## ELM 368 - PROJECT\n",
    "## B17\n",
    "## Muhammet Kemal Yazıcı"
   ]
  },
  {
   "cell_type": "code",
   "execution_count": null,
   "metadata": {
    "scrolled": true
   },
   "outputs": [],
   "source": [
    "import matplotlib.pyplot as plt\n",
    "import numpy as np\n",
    "import scipy.signal as sgnl\n",
    "import IPython.display\n",
    "import librosa\n",
    "from librosa import display as d, filters, segment, util\n",
    "\n",
    "\n",
    "class sound:\n",
    "    def __init__(self, name):\n",
    "        self.signal, self.__framerate = librosa.load( name, sr=None, mono=True)\n",
    "        self.__firstsignal = self.signal\n",
    "    def getFrameRate(self):\n",
    "        return self.__framerate\n",
    "    def getFirstSignal(self):\n",
    "        return self.__firstsignal\n",
    "    def playFirstSignal(self):\n",
    "        IPython.display.display(\n",
    "            IPython.display.Audio(self.__firstsignal, rate=self.__framerate)\n",
    "        )\n",
    "    def play(self):\n",
    "        IPython.display.display(\n",
    "            IPython.display.Audio(self.signal, rate=self.__framerate)\n",
    "        )\n",
    "    def writeFile(self, name):\n",
    "        librosa.output.write_wav(name, self.signal, self.__framerate)\n",
    "\n",
    "thunder= []\n",
    "rain= []\n",
    "thunder_stft= []\n",
    "rain_stft = []"
   ]
  },
  {
   "cell_type": "code",
   "execution_count": null,
   "metadata": {
    "scrolled": false
   },
   "outputs": [],
   "source": [
    "for i in range(1,7):  \n",
    "    sample = sound(f'B17_Thunder_{i}.wav')\n",
    "    print(f'B17_Thunder_{i}.wav')\n",
    "    print(\"Sample is loaded \")\n",
    "    sample.play()\n",
    "\n",
    "    plt.figure(figsize=(10, 6))\n",
    "    plt.subplot(3, 1, 1)\n",
    "    plt.title(\"Audio Signal in Time Domain\")\n",
    "    librosa.display.waveplot(sample.signal, sr=sample.getFrameRate())\n",
    "    plt.xlabel('Time')\n",
    "    print(\"Sample signal in time domain is plotted \")\n",
    "\n",
    "    xw = np.fft.fftshift(np.fft.fft(sample.signal))\n",
    "    w = np.linspace(-np.pi, np.pi, len(xw))\n",
    "    plt.figure(figsize=(10, 6))\n",
    "    plt.subplot(3, 1, 2)\n",
    "    plt.title(\"Audio Signal in Frequency Domain\")\n",
    "    plt.xlabel(\"$\\omega$ / $\\pi$\")\n",
    "    plt.plot(w/np.pi, np.abs(xw))\n",
    "    print(\"Sample signal in frequency domain is plotted \")\n",
    "\n",
    "    xws = librosa.stft(sample.signal)\n",
    "    plt.figure(figsize=(10, 6))\n",
    "    plt.subplot(3, 1, 3)\n",
    "    plt.title(\"Audio Signal Spectogram\")\n",
    "    librosa.display.specshow(librosa.amplitude_to_db(np.abs(xws), ref=np.max),y_axis='log', x_axis='time')\n",
    "    plt.colorbar(format='%+2.0f dB')\n",
    "    plt.show()\n",
    "    print(\"Sample signal spectogram is plotted \")\n",
    "    print(f'B17_Thunder_{i}.wav max freq -> {np.max(np.abs(xws))}')\n",
    "    thunder.append( np.max(np.abs(xw)) )\n",
    "    thunder_stft.append( np.max(np.abs(xws)))\n",
    "    print('---------------------------------------------------------\\n')\n",
    "    "
   ]
  },
  {
   "cell_type": "code",
   "execution_count": null,
   "metadata": {
    "scrolled": false
   },
   "outputs": [],
   "source": [
    "for i in range(1,7):  \n",
    "    sample = sound(f'B17_Rain_{i}.wav')\n",
    "    print(f'B17_Rain_{i}.wav')\n",
    "    print(\"Sample is loaded \")\n",
    "    sample.play()\n",
    "\n",
    "    plt.figure(figsize=(10, 6))\n",
    "    plt.subplot(3, 1, 1)\n",
    "    plt.title(\"Audio Signal in Time Domain\")\n",
    "    librosa.display.waveplot(sample.signal, sr=sample.getFrameRate())\n",
    "    plt.xlabel('Time')\n",
    "    print(\"Sample signal in time domain is plotted \")\n",
    "\n",
    "    xw = np.fft.fftshift(np.fft.fft(sample.signal))\n",
    "    w = np.linspace(-np.pi, np.pi, len(xw))\n",
    "    plt.figure(figsize=(10, 6))\n",
    "    plt.subplot(3, 1, 2)\n",
    "    plt.title(\"Audio Signal in Frequency Domain\")\n",
    "    plt.xlabel(\"$\\omega$ / $\\pi$\")\n",
    "    plt.plot(w/np.pi, np.abs(xw))\n",
    "    print(\"Sample signal in frequency domain is plotted \")\n",
    "\n",
    "    xws = librosa.stft(sample.signal)\n",
    "    plt.figure(figsize=(10, 6))\n",
    "    plt.subplot(3, 1, 3)\n",
    "    plt.title(\"Audio Signal Spectogram\")\n",
    "    librosa.display.specshow(librosa.amplitude_to_db(np.abs(xws), ref=np.max),y_axis='log', x_axis='time')\n",
    "    plt.colorbar(format='%+2.0f dB')\n",
    "    plt.show()\n",
    "    print(\"Sample signal spectogram is plotted \")\n",
    "    print(f'B17_Rain_{i}.wav max freq -> {np.max(np.abs(xws))}')\n",
    "    rain.append( np.max(np.abs(xw)) )\n",
    "    rain_stft.append( np.max(np.abs(xws)))\n",
    "    print('---------------------------------------------------------\\n')"
   ]
  },
  {
   "cell_type": "code",
   "execution_count": null,
   "metadata": {
    "scrolled": true
   },
   "outputs": [],
   "source": [
    "thunder_stft"
   ]
  },
  {
   "cell_type": "code",
   "execution_count": null,
   "metadata": {
    "scrolled": true
   },
   "outputs": [],
   "source": [
    "rain_stft"
   ]
  },
  {
   "cell_type": "code",
   "execution_count": null,
   "metadata": {
    "scrolled": true
   },
   "outputs": [],
   "source": [
    "np.mean(thunder_stft)"
   ]
  },
  {
   "cell_type": "code",
   "execution_count": null,
   "metadata": {
    "scrolled": true
   },
   "outputs": [],
   "source": [
    "np.mean(rain_stft)"
   ]
  },
  {
   "cell_type": "code",
   "execution_count": null,
   "metadata": {
    "scrolled": true
   },
   "outputs": [],
   "source": [
    "dec_freq = (np.mean(thunder_stft)+np.mean(rain_stft)) /2 \n",
    "print(dec_freq)"
   ]
  },
  {
   "cell_type": "code",
   "execution_count": null,
   "metadata": {
    "scrolled": false
   },
   "outputs": [],
   "source": [
    "rain_pred_list=[]\n",
    "thunder_pred_list=[]\n",
    "pred = []\n",
    "for i in range(1,10): \n",
    "    sample = sound(f'B17_Undefined_{i}.wav')\n",
    "    name = f'B17_Undefined_{i}.wav'\n",
    "    print(f'B17_Undefined_{i}.wav')\n",
    "    print(\"Sample is loaded \",)\n",
    "    sample.play()\n",
    "\n",
    "    xw = np.fft.fftshift(np.fft.fft(sample.signal))\n",
    "    w = np.linspace(-np.pi, np.pi, len(xw))\n",
    "    xws = librosa.stft(sample.signal)\n",
    "    print(f'B17_Undefined_{i} freq = {np.max(np.abs(xws))}')\n",
    "    if (np.max(np.abs(xws)) > dec_freq):\n",
    "        print(f'B17_Undefined_{i}.wav --> Thunder Sound\\n')\n",
    "        pred.append(\"Thunder\")\n",
    "        thunder_pred_list.append(name)\n",
    "        \n",
    "    elif((np.max(np.abs(xws)) < dec_freq)):\n",
    "        print(f'B17_Undefined_{i}.wav --> Rain Sound\\n')\n",
    "        pred.append(\"Rain\")\n",
    "        rain_pred_list.append(name)"
   ]
  },
  {
   "cell_type": "code",
   "execution_count": null,
   "metadata": {
    "scrolled": true
   },
   "outputs": [],
   "source": [
    "print(thunder_pred_list)"
   ]
  },
  {
   "cell_type": "code",
   "execution_count": null,
   "metadata": {
    "scrolled": true
   },
   "outputs": [],
   "source": [
    "print(rain_pred_list)"
   ]
  },
  {
   "cell_type": "code",
   "execution_count": null,
   "metadata": {
    "scrolled": true
   },
   "outputs": [],
   "source": [
    "import pandas as pd\n",
    "\n",
    "name = [\"B17_Undefined_1\",\"B17_Undefined_2\", \"B17_Undefined_3\",\n",
    "       \"B17_Undefined_4\", \"B17_Undefined_5\", \"B17_Undefined_6\",\n",
    "       \"B17_Undefined_7\",\"B17_Undefined_8\",\"B17_Undefined_9\"]\n",
    "\n",
    "value = [\"Rain\",\"Thunder\",\"Thunder\",\"Rain\",\"Thunder\",\"Rain\",\"Rain\",\"Thunder\",\"Thunder\"]\n",
    "\n",
    "result = {'name': name, 'value': value, 'pred': pred} \n",
    "df = pd.DataFrame(result)"
   ]
  },
  {
   "cell_type": "code",
   "execution_count": null,
   "metadata": {
    "scrolled": true
   },
   "outputs": [],
   "source": [
    "df"
   ]
  },
  {
   "cell_type": "code",
   "execution_count": null,
   "metadata": {},
   "outputs": [],
   "source": [
    "pred == value"
   ]
  }
 ],
 "metadata": {
  "kernelspec": {
   "display_name": "Python 3 (ipykernel)",
   "language": "python",
   "name": "python3"
  },
  "language_info": {
   "codemirror_mode": {
    "name": "ipython",
    "version": 3
   },
   "file_extension": ".py",
   "mimetype": "text/x-python",
   "name": "python",
   "nbconvert_exporter": "python",
   "pygments_lexer": "ipython3",
   "version": "3.9.7"
  }
 },
 "nbformat": 4,
 "nbformat_minor": 2
}
